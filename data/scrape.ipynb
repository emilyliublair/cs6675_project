{
 "cells": [
  {
   "cell_type": "code",
   "execution_count": 8,
   "metadata": {},
   "outputs": [],
   "source": [
    "from selenium import webdriver\n",
    "from selenium.webdriver.common.keys import Keys\n",
    "from selenium.webdriver.common.by import By\n",
    "import time"
   ]
  },
  {
   "cell_type": "code",
   "execution_count": 9,
   "metadata": {},
   "outputs": [],
   "source": [
    "# load Piazza\n",
    "driver = webdriver.Chrome()\n",
    "driver.get('https://piazza.com/class/m5l90em6d0u656') # enter URL of desired class"
   ]
  },
  {
   "cell_type": "code",
   "execution_count": 10,
   "metadata": {},
   "outputs": [],
   "source": [
    "# LOGIN\n",
    "driver.find_element(By.LINK_TEXT, \"Login with your school's credentials (SSO)\").click()\n",
    "time.sleep(2)\n",
    "driver.find_element(By.LINK_TEXT, \"Georgia Institute of Technology\").click()\n",
    "time.sleep(2)"
   ]
  },
  {
   "cell_type": "code",
   "execution_count": 11,
   "metadata": {},
   "outputs": [],
   "source": [
    "# INPUT CREDENTIALS\n",
    "username_input = driver.find_element(By.ID, \"username\")\n",
    "username_input.clear()\n",
    "username_input.send_keys(\"eliu309\") # change to gatech username\n",
    "\n",
    "password_input = driver.find_element(By.ID, \"password\")\n",
    "password_input.clear()\n",
    "password_input.send_keys(\"LWenXin444#\") # change to gatech password\n",
    "\n",
    "time.sleep(2)\n",
    "driver.find_element(By.NAME, \"submitbutton\").click()"
   ]
  },
  {
   "cell_type": "code",
   "execution_count": 12,
   "metadata": {},
   "outputs": [],
   "source": [
    "# after 2FA via Duo Mobile, click \"Yes, this is my device\"\n",
    "driver.find_element(By.ID, \"trust-browser-button\").click()"
   ]
  },
  {
   "cell_type": "code",
   "execution_count": 21,
   "metadata": {},
   "outputs": [],
   "source": [
    "# filter by folder\n",
    "driver.find_element(By.ID, \"topbar_folder_4\").click()"
   ]
  },
  {
   "cell_type": "code",
   "execution_count": 22,
   "metadata": {},
   "outputs": [
    {
     "name": "stdout",
     "output_type": "stream",
     "text": [
      "All post groups clicked!\n"
     ]
    }
   ],
   "source": [
    "# expand all sections in LHS\n",
    "from selenium.webdriver.common.action_chains import ActionChains\n",
    "post_groups = driver.find_elements(By.XPATH, \"//div[@data-id='post_group']\")\n",
    "\n",
    "for post_group in post_groups:\n",
    "    try:\n",
    "        ActionChains(driver).move_to_element(post_group).click().perform()\n",
    "        time.sleep(1)\n",
    "    except Exception as e:\n",
    "        print(f\"Error clicking element: {e}\")\n",
    "\n",
    "print(\"All post groups clicked!\")"
   ]
  },
  {
   "cell_type": "code",
   "execution_count": 23,
   "metadata": {},
   "outputs": [
    {
     "name": "stdout",
     "output_type": "stream",
     "text": [
      "67\n"
     ]
    }
   ],
   "source": [
    "# retrieve all posts\n",
    "post_items = driver.find_elements(By.XPATH, \"//li[@data-id='post_group_item']\")\n",
    "print(len(post_items))"
   ]
  },
  {
   "cell_type": "code",
   "execution_count": 26,
   "metadata": {},
   "outputs": [],
   "source": [
    "# scrape all posts\n",
    "from bs4 import BeautifulSoup\n",
    "\n",
    "for i in range(75, len(post_items)):\n",
    "    print(i)\n",
    "    post_items[i].click()\n",
    "    # question\n",
    "    try:\n",
    "        qa = driver.find_element(By.XPATH, \"//div[@class='col questions-and-answers']\").find_element(By.XPATH, \".//div[@class='content container-fluid']\")\n",
    "        question_content = qa.get_attribute(\"innerHTML\")\n",
    "        question_soup = BeautifulSoup(question_content, \"html.parser\")\n",
    "        clean_question = question_soup.get_text(strip=True).replace(\"Actions\", \"\")\n",
    "        print(clean_question)\n",
    "    except:\n",
    "        print(\"err question\")\n",
    "        clean_question = \"\"\n",
    "\n",
    "    # student answer\n",
    "    try: \n",
    "        s_answer = driver.find_element(By.XPATH, \"//*[@data-id='s_answer']\").find_element(By.XPATH, \".//div[@class='content container-fluid']\")\n",
    "        s_answer_content = s_answer.get_attribute(\"innerHTML\")\n",
    "        s_answer_soup = BeautifulSoup(s_answer_content, \"html.parser\")\n",
    "        clean_s_answer = s_answer_soup.get_text(strip=True).replace(\"Actions\", \"\")\n",
    "        print(clean_s_answer)\n",
    "    except:\n",
    "        print(\"err s_answer\")\n",
    "        clean_s_answer = \"\"\n",
    "\n",
    "    # instructor answer\n",
    "    try: \n",
    "        i_answer = driver.find_element(By.XPATH, \"//*[@data-id='i_answer']\").find_element(By.XPATH, \".//div[@class='content container-fluid']\")\n",
    "        i_answer_content = i_answer.get_attribute(\"innerHTML\")\n",
    "        i_answer_soup = BeautifulSoup(i_answer_content, \"html.parser\")\n",
    "        clean_i_answer = i_answer_soup.get_text(strip=True)\n",
    "\n",
    "        print(clean_i_answer)\n",
    "    except:\n",
    "        print(\"err i_answer\")\n",
    "        clean_i_answer = \"\"\n",
    "\n",
    "    # follow up discussions\n",
    "    try: \n",
    "        follow_up = driver.find_element(By.XPATH, \"//*[@aria-label='Followup Discussions']\")\n",
    "        follow_up_content = follow_up.get_attribute(\"innerHTML\")\n",
    "        follow_up_soup = BeautifulSoup(follow_up_content, \"html.parser\")\n",
    "        clean_follow_up = follow_up_soup.get_text(strip=True)\n",
    "        clean_follow_up = clean_follow_up.replace(\"followup discussions\", \"\")\n",
    "        clean_follow_up = clean_follow_up.replace(\"for lingering questions and comments\", \"\")\n",
    "        clean_follow_up = clean_follow_up.replace(\"Start a new followup discussion\", \"\")\n",
    "        clean_follow_up = clean_follow_up.replace(\"Resolved\", \"\")\n",
    "        clean_follow_up = clean_follow_up.replace(\"Unresolved\", \"\")\n",
    "        clean_follow_up = clean_follow_up.replace(\"helpful!\", \"\")\n",
    "\n",
    "        print(clean_follow_up)\n",
    "    except:\n",
    "        clean_follow_up = \"\"\n",
    "\n",
    "    file_content = f\"\"\"Question: \n",
    "    {clean_question}\n",
    "\n",
    "    Student Answer: \n",
    "    {clean_s_answer}\n",
    "\n",
    "    Instructor Answer: \n",
    "    {clean_i_answer}\n",
    "\n",
    "    Followup Discussions:\n",
    "    {clean_follow_up}\n",
    "    \"\"\"\n",
    "\n",
    "    # store as a text file\n",
    "    file_name = f\"./lab4/post_{i + 1}.txt\"\n",
    "    with open(file_name, \"w\", encoding=\"utf-8\") as file:\n",
    "        file.write(file_content)\n",
    "\n",
    "    time.sleep(0.2)\n"
   ]
  }
 ],
 "metadata": {
  "kernelspec": {
   "display_name": "base",
   "language": "python",
   "name": "python3"
  },
  "language_info": {
   "codemirror_mode": {
    "name": "ipython",
    "version": 3
   },
   "file_extension": ".py",
   "mimetype": "text/x-python",
   "name": "python",
   "nbconvert_exporter": "python",
   "pygments_lexer": "ipython3",
   "version": "3.10.9"
  }
 },
 "nbformat": 4,
 "nbformat_minor": 2
}
